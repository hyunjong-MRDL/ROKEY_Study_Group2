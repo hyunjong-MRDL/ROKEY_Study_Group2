{
 "cells": [
  {
   "cell_type": "markdown",
   "metadata": {
    "id": "yi_zHttHhBT_"
   },
   "source": [
    "# 백준 11404번: 가장 빠른 버스 노선 구하기\n",
    "\n",
    "## 문제:\n",
    "n(2 ≤ n ≤ 100)개의 도시가 있다. 그리고 한 도시에서 출발하여 다른 도시에 도착하는 m(1 ≤ m ≤ 100,000)개의 버스가 있다. 각 버스는 한 번 사용할 때 필요한 비용이 있다.\n",
    "\n",
    "모든 도시의 쌍 (A, B)에 대해서 도시 A에서 B로 가는데 필요한 비용의 최솟값을 구하는 프로그램을 작성하시오.\n",
    "\n",
    "## 입력:\n",
    "첫째 줄에 도시의 개수 n이 주어지고 둘째 줄에는 버스의 개수 m이 주어진다. 그리고 셋째 줄부터 m+2줄까지 다음과 같은 버스의 정보가 주어진다. 먼저 처음에는 그 버스의 출발 도시의 번호가 주어진다. 버스의 정보는 버스의 시작 도시 a, 도착 도시 b, 한 번 타는데 필요한 비용 c로 이루어져 있다. 시작 도시와 도착 도시가 같은 경우는 없다. 비용은 100,000보다 작거나 같은 자연수이다.\n",
    "\n",
    "시작 도시와 도착 도시를 연결하는 노선은 하나가 아닐 수 있다.\n",
    "\n",
    "## 출력:\n",
    "n개의 줄을 출력해야 한다. i번째 줄에 출력하는 j번째 숫자는 도시 i에서 j로 가는데 필요한 최소 비용이다. 만약, i에서 j로 갈 수 없는 경우에는 그 자리에 0을 출력한다.\n",
    "\n",
    "<img src=\"https://raw.githubusercontent.com/hyunjong-MRDL/ROKEY_Study_Group2/sw/img/11404/11404_1.png\" width=\"1200\" height=\"600\">"
   ]
  },
  {
   "cell_type": "markdown",
   "metadata": {
    "id": "b4qUzxVYjJiq"
   },
   "source": [
    "###예제 입력 그래프\n",
    "\n",
    "<img src=\"https://raw.githubusercontent.com/hyunjong-MRDL/ROKEY_Study_Group2/sw/img/11404/11404_2.png\" width=\"800\" height=\"600\">"
   ]
  },
  {
   "cell_type": "markdown",
   "metadata": {
    "id": "MwfaRqL2o65x"
   },
   "source": [
    "###알고리즘 특징 정리\n",
    "\n",
    "<img src=\"https://raw.githubusercontent.com/hyunjong-MRDL/ROKEY_Study_Group2/sw/img/11404/11404_3.png\" width=\"900\" height=\"500\">"
   ]
  },
  {
   "cell_type": "markdown",
   "metadata": {
    "id": "YNrH6Oi4lzMY"
   },
   "source": [
    "##Floyd-Warshall Algorithm(플로이드-워셜 알고리즘)\n",
    "\n",
    "저번에 살펴본 벨만-포드 알고리즘은 one-to-all, 즉 시작 노드로부터 다른 모든 노드들까지의 최단거리를 구할 필요가 있을 때 사용하는 알고리즘이었다. 이번에 살펴볼 Floyd-Warshall Algorithm(플로이드-워셜)은 all-to-all, 즉 모든 노드쌍 간의 최단거리를 모조리 알고 싶을 때 사용하는 알고리즘이다.\n",
    "\n",
    "모든 쌍에 대해 조사하기 때문에 시간복잡도 또한 $O(V^{2})$ 으로 높다. 따라서 이 문제는 보통 노드 수가 100개 이하에서 사용하기 괜찮다고 받아들여 진다고 한다(정말 최적화된 환경에서는 최대로는 500개).\n",
    "\n",
    "가중치 그래프에서 사용할 수 있으며 음수/양수 모두 가능하다. 또한 음수 사이클을 탐지하는 방법이 조금 다르지만, 이 방식 또한 음수 사이클을 탐지해낼 수 있다.\n",
    "\n",
    "플로이드-워셜은 동적 계획법(Dynamic Programming,DP)을 기반으로 작동한다고 하는데, 여기서 DP란 '복잡한 문제를 간단한 여러 개의 문제로 나누어 푸는 방법'이라고 한다.\n",
    "\n",
    "플로이드–워셜은 모든 정점 쌍 (i, j)의 최단거리를 구할 때,\n",
    "중간에 거쳐 가는 경유정점 k를 하나씩 늘려가면서 갱신하는 방식이다.\n",
    "이를 반영하는 점화식은 아래와 같다.\n",
    "\n",
    "$D[i][j] = min(D[i][j],D[i][k]+D[k][j])$\n",
    "\n",
    "즉, i에서 j로 가는 최단거리가 어떠한 방식으로 계산되어 채워졌을 때, 중간 경유지점 k를 지나는 최단거리가 만약 더 짧다면 그 최단거리로 대체하여야 한다는 원리이다.\n",
    "\n",
    "단계별 구현은 다음과 같다."
   ]
  },
  {
   "cell_type": "markdown",
   "metadata": {
    "id": "RWIj72ANynjt"
   },
   "source": [
    "###1.리스트 선언 및 초기화\n",
    "\n",
    "<img src=\"https://raw.githubusercontent.com/hyunjong-MRDL/ROKEY_Study_Group2/sw/img/11404/11404_4.png\" width=\"900\" height=\"400\">\n",
    "\n",
    "i에서 j로 가는 최단거리를 담을 D[i][j] 리스트를 생성하고, i=j인 곳에는 0, 나머지에는 ∞를 채워넣는다. 여기서 i=j인 곳에 0을 넣는 이유는 자기 자신에게 가는 최단 경로는 0이라고 가정하기 때문이다.\n",
    "\n",
    "\n",
    "###2. 최단 거리 리스트에 엣지 정보 기록\n",
    "\n",
    "<img src=\"https://raw.githubusercontent.com/hyunjong-MRDL/ROKEY_Study_Group2/sw/img/11404/11404_5.png\" width=\"900\" height=\"400\">\n",
    "\n",
    "그래프의 엣지정보를 넣어준다. 여기서 일단은 한번 엣지를 거쳐 가는 경로가 최단거리라고 생각하고 엣지들 가중치들을 넣어준다(물론 이 값은 최종적으로 결정되는 최단 거리는 아님). 또한 이 예시에서는 한 노드에서 다른 노드로 가는 엣지가 하나씩이지만 우리 문제에서는 여러개일 수 있는데, 이는 입력으로 엣지정보를 받아 입력할 때 가장 작은 값으로 입력받도록 하면 된다.\n",
    "\n",
    "###3. 점화식을 바탕으로 리스트 업데이트\n",
    "\n",
    "<img src=\"https://raw.githubusercontent.com/hyunjong-MRDL/ROKEY_Study_Group2/sw/img/11404/11404_6.png\" width=\"900\" height=\"400\">\n",
    "\n",
    "위에서 소개한 점화식 $D[i][j] = min(D[i][j],D[i][k]+D[k][j])$를 기본으로 하여 리스트 값을 반복 업데이트 한다. 총 노드 개수가 V개라 하면, V개의 경유지에 대해 고려할 것이며, 각각 출발노드와 도착노드는 V개씩이므로 $V^{3}$번 연산을 하게 되는 것이다. 업데이트 구현은 다음 3중 for문으로 하면 된다.\n",
    "\n",
    "for 경유지 k에 관해(1~V):\n",
    "\n",
    "$\\quad$ for 출발노드 i에 관해(1~V):\n",
    "\n",
    "$\\quad\\quad$for 도착노드 j에 관해(1~V):\n",
    "\n",
    "$\\quad\\quad\\quad D[i][j] = min(D[i][j],D[i][k]+D[k][j])$\n"
   ]
  },
  {
   "cell_type": "code",
   "execution_count": 30,
   "metadata": {
    "colab": {
     "base_uri": "https://localhost:8080/"
    },
    "executionInfo": {
     "elapsed": 4612,
     "status": "ok",
     "timestamp": 1755971499189,
     "user": {
      "displayName": "양승원",
      "userId": "04939558219683520192"
     },
     "user_tz": -540
    },
    "id": "xEWkjD_cgtHq",
    "outputId": "0bf77aca-5271-499d-e413-c9b10bbb34c6"
   },
   "outputs": [
    {
     "name": "stdout",
     "output_type": "stream",
     "text": [
      "5\n",
      "14\n"
     ]
    }
   ],
   "source": [
    "##백준 11404번\n",
    "\n",
    "import sys\n",
    "#input = sys.stdin.readline\n",
    "\n",
    "#개수 입력 받기\n",
    "V = int(input())  #도시 개수(노드 개수)\n",
    "E = int(input())  #버스 노선 개수(엣지 개수)"
   ]
  },
  {
   "cell_type": "code",
   "execution_count": 31,
   "metadata": {
    "colab": {
     "base_uri": "https://localhost:8080/"
    },
    "executionInfo": {
     "elapsed": 4,
     "status": "ok",
     "timestamp": 1755971505991,
     "user": {
      "displayName": "양승원",
      "userId": "04939558219683520192"
     },
     "user_tz": -540
    },
    "id": "do834F1z9sj5",
    "outputId": "85dd6734-ba06-4226-9e9f-25e60665bee9"
   },
   "outputs": [
    {
     "name": "stdout",
     "output_type": "stream",
     "text": [
      "[0, 9223372036854775807, 9223372036854775807, 9223372036854775807, 9223372036854775807, 9223372036854775807]\n",
      "[9223372036854775807, 0, 9223372036854775807, 9223372036854775807, 9223372036854775807, 9223372036854775807]\n",
      "[9223372036854775807, 9223372036854775807, 0, 9223372036854775807, 9223372036854775807, 9223372036854775807]\n",
      "[9223372036854775807, 9223372036854775807, 9223372036854775807, 0, 9223372036854775807, 9223372036854775807]\n",
      "[9223372036854775807, 9223372036854775807, 9223372036854775807, 9223372036854775807, 0, 9223372036854775807]\n",
      "[9223372036854775807, 9223372036854775807, 9223372036854775807, 9223372036854775807, 9223372036854775807, 0]\n"
     ]
    }
   ],
   "source": [
    "#최단거리 리스트 D[i][j] 생성 및 초기화\n",
    "\n",
    "D = [[sys.maxsize for j in range(V+1)] for i in range(V+1)] #모든 성분 무한인 (V+1)*(V+1)리스트 생성. 인덱스 번호 맞추기 위해 V대신 V+1사용, 0번째 행 & 0번째 열은 사용 안함\n",
    "for i in range(V+1):\n",
    "  D[i][i] = 0 #i=j인 곳만 0으로 초기화\n",
    "\n",
    "#D확인\n",
    "for row in D:\n",
    "  print(row)"
   ]
  },
  {
   "cell_type": "code",
   "execution_count": 32,
   "metadata": {
    "colab": {
     "base_uri": "https://localhost:8080/"
    },
    "executionInfo": {
     "elapsed": 45499,
     "status": "ok",
     "timestamp": 1755971554515,
     "user": {
      "displayName": "양승원",
      "userId": "04939558219683520192"
     },
     "user_tz": -540
    },
    "id": "1nDx4In3_V3Z",
    "outputId": "85c397d3-c428-490b-edc6-f45186fb0570"
   },
   "outputs": [
    {
     "name": "stdout",
     "output_type": "stream",
     "text": [
      "1 2 2\n",
      "1 3 3\n",
      "1 4 1\n",
      "1 5 10\n",
      "2 4 2\n",
      "3 4 1\n",
      "3 5 1\n",
      "4 5 3\n",
      "3 5 10\n",
      "3 1 8\n",
      "1 4 2\n",
      "5 1 7\n",
      "3 4 2\n",
      "5 2 4\n",
      "==================================================\n",
      "[0, 9223372036854775807, 9223372036854775807, 9223372036854775807, 9223372036854775807, 9223372036854775807]\n",
      "[9223372036854775807, 0, 2, 3, 1, 10]\n",
      "[9223372036854775807, 9223372036854775807, 0, 9223372036854775807, 2, 9223372036854775807]\n",
      "[9223372036854775807, 8, 9223372036854775807, 0, 1, 1]\n",
      "[9223372036854775807, 9223372036854775807, 9223372036854775807, 9223372036854775807, 0, 3]\n",
      "[9223372036854775807, 7, 4, 9223372036854775807, 9223372036854775807, 0]\n"
     ]
    }
   ],
   "source": [
    "#엣지 정보 입력 받기 및 리스트에 담기\n",
    "\n",
    "for i in range(E):\n",
    "  i,j,w = map(int,input().split())\n",
    "  if D[i][j] > w:\n",
    "    D[i][j] = w #현재 D[i][j]의 값보다 가중치값이 작을 때만 넣어주며, 중복되었을 때 가장 작은 가중치의 엣지만 담기게 함.\n",
    "\n",
    "print('='*50)\n",
    "#D확인\n",
    "for row in D:\n",
    "  print(row)"
   ]
  },
  {
   "cell_type": "code",
   "execution_count": 33,
   "metadata": {
    "colab": {
     "base_uri": "https://localhost:8080/"
    },
    "executionInfo": {
     "elapsed": 11,
     "status": "ok",
     "timestamp": 1755971559932,
     "user": {
      "displayName": "양승원",
      "userId": "04939558219683520192"
     },
     "user_tz": -540
    },
    "id": "qO91s5-4Ap0g",
    "outputId": "05cd1cae-78e8-4206-aade-07d8d86a32eb"
   },
   "outputs": [
    {
     "name": "stdout",
     "output_type": "stream",
     "text": [
      "[0, 9223372036854775807, 9223372036854775807, 9223372036854775807, 9223372036854775807, 9223372036854775807]\n",
      "[9223372036854775807, 0, 2, 3, 1, 4]\n",
      "[9223372036854775807, 12, 0, 15, 2, 5]\n",
      "[9223372036854775807, 8, 5, 0, 1, 1]\n",
      "[9223372036854775807, 10, 7, 13, 0, 3]\n",
      "[9223372036854775807, 7, 4, 10, 6, 0]\n"
     ]
    }
   ],
   "source": [
    "#플로이드 워셜 점화식으로 업데이트\n",
    "\n",
    "for k in range(V+1):\n",
    "  for i in range(V+1):\n",
    "    for j in range(V+1):\n",
    "      if D[i][j] > D[i][k] + D[k][j]:\n",
    "        D[i][j] = D[i][k] + D[k][j]\n",
    "\n",
    "#D확인\n",
    "for row in D:\n",
    "  print(row)"
   ]
  },
  {
   "cell_type": "code",
   "execution_count": 34,
   "metadata": {
    "colab": {
     "base_uri": "https://localhost:8080/"
    },
    "executionInfo": {
     "elapsed": 8,
     "status": "ok",
     "timestamp": 1755971561854,
     "user": {
      "displayName": "양승원",
      "userId": "04939558219683520192"
     },
     "user_tz": -540
    },
    "id": "KKuW_IFLCdeC",
    "outputId": "402fdcad-80a3-4153-b44e-e41e67957c3a"
   },
   "outputs": [
    {
     "name": "stdout",
     "output_type": "stream",
     "text": [
      "0 2 3 1 4 \n",
      "12 0 15 2 5 \n",
      "8 5 0 1 1 \n",
      "10 7 13 0 3 \n",
      "7 4 10 6 0 \n"
     ]
    }
   ],
   "source": [
    "#출력(0행/0열은 사용 안하므로 1행/1열 부터 출력)\n",
    "for i in range(1,V+1):\n",
    "  for j in range(1,V+1):\n",
    "    if D[i][j] == sys.maxsize:\n",
    "      print(0,end=' ')  #문제 조건에 따라 도달하지 못한 노드(무한 값이 있는 노드)는 0으로 출력한다.\n",
    "    else:\n",
    "      print(D[i][j],end=' ')  #나머지는 정상 출력\n",
    "  print() #각 행 출력후 줄바꿈"
   ]
  },
  {
   "cell_type": "code",
   "execution_count": null,
   "metadata": {
    "id": "uT_lJ0KlD-Mq"
   },
   "outputs": [],
   "source": [
    "##전체 코드\n",
    "import sys\n",
    "#input = sys.stdin.readline\n",
    "\n",
    "V = int(input())\n",
    "E = int(input())\n",
    "\n",
    "D = [[sys.maxsize for j in range(V+1)] for i in range(V+1)]\n",
    "for i in range(V+1):\n",
    "  D[i][i] = 0\n",
    "\n",
    "for i in range(E):\n",
    "  i,j,w = map(int,input().split())\n",
    "  if D[i][j] > w:\n",
    "    D[i][j] = w\n",
    "\n",
    "for k in range(V+1):\n",
    "  for i in range(V+1):\n",
    "    for j in range(V+1):\n",
    "      if D[i][j] > D[i][k] + D[k][j]:\n",
    "        D[i][j] = D[i][k] + D[k][j]\n",
    "\n",
    "for i in range(1,V+1):\n",
    "  for j in range(1,V+1):\n",
    "    if D[i][j] == sys.maxsize:\n",
    "      print(0,end=' ')\n",
    "    else:\n",
    "      print(D[i][j],end=' ')\n",
    "  print()"
   ]
  },
  {
   "cell_type": "markdown",
   "metadata": {
    "id": "ARteuVxVEXeF"
   },
   "source": [
    "##음수 사이클 확인\n",
    "\n",
    "벨만 포드 알고리즘에서는 V-1번의 간선 업데이트 이후 한번 더 업데이트를 수행하여 바뀌는 리스트 값이 있는지 확인하는 방식으로 음수 사이클을 확인하였다. 플로이드 워셜 알고리즘에서는 그런 작업을 할 필요 없이 D[i][i]에 0이 아닌 음수가 들어있다면 음수 사이클이 존재한다는 말이 된다. 왜냐하면 음수 사이클이 존재한다면 그 사이클을 돌아 자기자신으로 돌아온 노드는 음수 값으로 갱신될 것이기 때문이다. 간단한 그래프와 위 코드로 직접 확인해보자.\n",
    "\n",
    "\n",
    "<img src=\"https://raw.githubusercontent.com/hyunjong-MRDL/ROKEY_Study_Group2/sw/img/11404/11404_7.png\" width=\"500\" height=\"400\">\n"
   ]
  },
  {
   "cell_type": "markdown",
   "metadata": {
    "id": "zKchMuU0Hzc-"
   },
   "source": [
    "참고)노드 그래프 시각화 사이트\n",
    "\n",
    "https://magjac.com/graphviz-visual-editor/"
   ]
  }
 ],
 "metadata": {
  "colab": {
   "authorship_tag": "ABX9TyM9kCoHt0eqxZXxU4tZggKx",
   "provenance": []
  },
  "kernelspec": {
   "display_name": "Python 3",
   "name": "python3"
  },
  "language_info": {
   "name": "python"
  }
 },
 "nbformat": 4,
 "nbformat_minor": 0
}

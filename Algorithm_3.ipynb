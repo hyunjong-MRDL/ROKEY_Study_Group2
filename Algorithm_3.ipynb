{
 "cells": [
  {
   "cell_type": "markdown",
   "metadata": {
    "id": "jod5EZ2iT8_x"
   },
   "source": [
    "\n",
    "\n",
    "#백준 11657번: 타임머신\n",
    "\n",
    "\n",
    "##문제:\n",
    "N개의 도시가 있다. 그리고 한 도시에서 출발하여 다른 도시에 도착하는 버스가 M개 있다. 각 버스는 A, B, C로 나타낼 수 있는데, A는 시작도시, B는 도착도시, C는 버스를 타고 이동하는데 걸리는 시간이다. 시간 C가 양수가 아닌 경우가 있다. C = 0인 경우는 순간 이동을 하는 경우, C < 0인 경우는 타임머신으로 시간을 되돌아가는 경우이다.\n",
    "\n",
    "1번 도시에서 출발해서 나머지 도시로 가는 가장 빠른 시간을 구하는 프로그램을 작성하시오.\n",
    "\n",
    "\n",
    "##입력:\n",
    "첫째 줄에 도시의 개수 N (1 ≤ N ≤ 500), 버스 노선의 개수 M (1 ≤ M ≤ 6,000)이 주어진다. 둘째 줄부터 M개의 줄에는 버스 노선의 정보 A, B, C (1 ≤ A, B ≤ N, -10,000 ≤ C ≤ 10,000)가 주어진다.\n",
    "\n",
    "\n",
    "##출력:\n",
    "만약 1번 도시에서 출발해 어떤 도시로 가는 과정에서 시간을 무한히 오래 전으로 되돌릴 수 있다면 첫째 줄에 -1을 출력한다. 그렇지 않다면 N-1개 줄에 걸쳐 각 줄에 1번 도시에서 출발해 2번 도시, 3번 도시, ..., N번 도시로 가는 가장 빠른 시간을 순서대로 출력한다. 만약 해당 도시로 가는 경로가 없다면 대신 -1을 출력한다.\n",
    "\n",
    "\n",
    "<img src=\"https://raw.githubusercontent.com/hyunjong-MRDL/ROKEY_Study_Group2/sw/img/11657/11657_1.png\" width=\"900\" height=\"800\">\n",
    "\n"
   ]
  },
  {
   "cell_type": "markdown",
   "metadata": {
    "id": "Zwvd1NJsT85B"
   },
   "source": [
    "##예제 입력 그래프로 살펴보기\n",
    "\n",
    "<img src=\"https://raw.githubusercontent.com/hyunjong-MRDL/ROKEY_Study_Group2/sw/img/11657/11657_2.png\" width=\"1000\" height=\"500\">\n"
   ]
  },
  {
   "cell_type": "markdown",
   "metadata": {
    "id": "EDqwmDpjT8ih"
   },
   "source": [
    "##Bellman - Ford Algorithm(벨만-포드 알고리즘)\n",
    "\n",
    "저번에 살펴본 다익스트라 알고리즘은 가중치가 양수인 그래프에서 최단거리를 구하는 방법이었다면, 이번 벨만-포드 알고리즘은 가중치가 음수일 때도 사용할 수 있도록 만든 알고리즘이다. 다익스트라와 마찬가지로 특정 출발지점으로부터 다른 모든 노드까지의 최단거리를 구하려는 것이 목표이다.\n",
    "\n",
    "앞서 말했듯 음수 가중치의 에지가 있어도 수행할 수 있으며, 전체 그래프에서 음수 사이클이 존재하는지 판단할 수 있다. 여기서 음수 사이클이란 사이클을 따라 경로를 탐색하면 할수록 최단거리값이 작아지도록 설계된 그래프로 사이클을 따라 가중치들을 모두 합하면 음수가 될 때 음수 사이클이라고 한다(예제 입력 2 참고).\n",
    "\n",
    "다익스트라 알고리즘과 비슷한 방식으로 최단거리값 리스트를 업데이트 한는데, 현재 최단 거리값에서 가중치를 더한 값이 다음 노드의 최단거리값보다 작을 때만 업데이트 한다. 그러나 엣지 데이터를 저장하는 방식이나 업데이트를 반복하는 횟수,\n",
    "음수 사이클 존재여부 판단 등에서 다익스트라 알고리즘과는 차이점을 보인다.\n",
    "\n",
    "벨만-포드 알고리즘의 시간 복잡도는 일반적으로 O(VE) 이다."
   ]
  },
  {
   "cell_type": "markdown",
   "metadata": {
    "id": "B7J6aK2IhZL7"
   },
   "source": [
    "다음은 벨만 포드 알고리즘의 구체적인 수행 순서이다.\n",
    "\n",
    "###1. 에지 리스트로 그래프를 구현하고 최단거리 값 리스트를 초기화\n",
    "모든 에지를 (출발,도착,가중치)로 된 튜플로 하여 edge 리스트에 저장한다. 또한 최단거리 리스트를 생성하여 모두 ∞(적당히 큰 값)를 넣어주고, 최초 시작 노드의 값만 0으로 한다.\n",
    "\n",
    "\n",
    "<img src=\"https://raw.githubusercontent.com/hyunjong-MRDL/ROKEY_Study_Group2/sw/img/11657/11657_3.png\" width=\"1000\" height=\"500\">\n",
    "\n",
    "###2. 모든 에지를 확인해 정답 리스트를 업데이트(V-1번 반복)\n",
    "최단거리 리스트를 업데이트 하는데, 업데이트는 출발노드의 최단거리값이 ∞가 아니고, (에지의 출발노드 최단거리값 + 가중치)가 에지의 도착노드 최단거리값보다 작을 때만 그 작은 값으로 도착노드의 최단거리 값을 업데이트 한다.\n",
    "(D[s] != ∞  and  D[e] > D[s] + w  → D[e] = D[s] + w)\n",
    "\n",
    "<img src=\"https://raw.githubusercontent.com/hyunjong-MRDL/ROKEY_Study_Group2/sw/img/11657/11657_4.png\" width=\"1000\" height=\"500\">\n",
    "\n",
    "\n",
    "이 과정을 (노드개수 - 1)번 반복하게 되는데, 이는 음수사이클이 없다고 가정할 때 두 노드의 최단거리를 구성할 수 있는 에지의 최대 개수가 V-1개이기 때문이다.\n",
    "\n",
    "예를 들어 노드 음수사이클이 아닌 사이클이 존재한다고 하면, 이 사이클을 돌고나면 최단거리값만 증가하므로 이 사이클을 거치는 것은 최단거리 값을 업데이트 하는데는 이득이 아니라는 것이다. 즉 한 노드까지의 최단거리 값을 구하기 위해서는 사이클을 거치지 않고 단순히 이어진 경로로 도달해야 한다는 것인데, 노드가 V개이면 이 단순하게 이어진 경로의 엣지를 최대 V-1개 거쳐야 하는 것이다(일렬로 늘어선 노드 그래프와 에지리스트가 역순으로 주어졌다고 생각하자). 사실 최단경로 값으로 최적화되는데 보장되는 업데이트 수의 최대가 V-1이라는 뜻이며, 업데이트가 그 이전에 멈추며 조기종료될 수도 있다. 그러나 여기서는 문제를 간단하게 하기 위해 조기종료 기능은 고려하지 않았다.\n",
    "\n",
    "###3. 음수 사이클 유무를 확인\n",
    "2단계에서 말했듯이 음수 사이클이 없다면 최대 V-1번의 업데이트 반복이 일어난 후에는 최단거리 리스트가 모두 최단거리 값으로 최적화 되어 더 업데이트 반복을 수행하더라도 최단거리 값이 업데이트되지 않는다. 만약, V-1번의 반복 이후 한번더 업데이트 반복을 수행하는데 최단거리값이 업데이트되는 노드가 있다면, 이는 음수 사이클이 존재한다는 의미이다. 음수 사이클이 존재하게 되면 2단계에서 구한 최단거리값 리스트는 완성된 형태가 아니라는 뜻이 되며, 음수 사이클을 돌며 음수사이클 상 노드들의 최단거리값이 무한정 감소하므로 최단거리 리스트의 값을 구할 수 없다.\n",
    "\n",
    "<img src=\"https://raw.githubusercontent.com/hyunjong-MRDL/ROKEY_Study_Group2/sw/img/11657/11657_5.png\" width=\"1000\" height=\"500\">\n",
    "\n"
   ]
  },
  {
   "cell_type": "code",
   "execution_count": 1,
   "metadata": {
    "executionInfo": {
     "elapsed": 7,
     "status": "ok",
     "timestamp": 1755089865881,
     "user": {
      "displayName": "양승원",
      "userId": "04939558219683520192"
     },
     "user_tz": -540
    },
    "id": "BrIu-TJET4NW"
   },
   "outputs": [],
   "source": [
    "import sys\n",
    "#input = sys.stdin.readline"
   ]
  },
  {
   "cell_type": "code",
   "execution_count": 5,
   "metadata": {
    "colab": {
     "base_uri": "https://localhost:8080/"
    },
    "executionInfo": {
     "elapsed": 20666,
     "status": "ok",
     "timestamp": 1755090085479,
     "user": {
      "displayName": "양승원",
      "userId": "04939558219683520192"
     },
     "user_tz": -540
    },
    "id": "PoW7fv7qlu9K",
    "outputId": "d5207800-04c1-4c1a-8f94-e190b05acd6b"
   },
   "outputs": [
    {
     "name": "stdout",
     "output_type": "stream",
     "text": [
      "5 6\n",
      "1 2 8\n",
      "2 5 5\n",
      "1 3 3\n",
      "3 4 7\n",
      "4 2 -4\n",
      "5 4 -2\n",
      "--------------------------------\n",
      "edges = [(1, 2, 8), (2, 5, 5), (1, 3, 3), (3, 4, 7), (4, 2, -4), (5, 4, -2)]\n",
      "D = [9223372036854775807, 0, 9223372036854775807, 9223372036854775807, 9223372036854775807, 9223372036854775807]\n"
     ]
    }
   ],
   "source": [
    "##입력받기, 업데이트에 쓰일 에지리스트 완성, 최단거리 값 리스트 초기화\n",
    "V,E = map(int,input().split())  #V는 노드개수, E는 에지 개수\n",
    "\n",
    "edges = []  #그래프의 에지 정보를 (출발,도착,가중치)튜플들로 채워줄 에지 리스트\n",
    "for _ in range(E):\n",
    "  s,e,w = map(int,input().split())\n",
    "  edges.append((s,e,w)) #에지 리스트에 (출발,도착,가중치)튜플 추가\n",
    "\n",
    "\n",
    "D = [sys.maxsize] * (V+1) #인덱스번호와 일치시키기 위해 V+1개의 값을 생성하고, 무한에 해당하는 큰 값을 채움\n",
    "D[1] = 0  #이 문제에서는 시작노드가 1로 고정되어 있으므로 그냥 D[1]을 0으로 초기화하면 됨.\n",
    "\n",
    "print('--------------------------------')\n",
    "\n",
    "print(f'edges = {edges}')\n",
    "print(f'D = {D}')"
   ]
  },
  {
   "cell_type": "code",
   "execution_count": 6,
   "metadata": {
    "colab": {
     "base_uri": "https://localhost:8080/"
    },
    "executionInfo": {
     "elapsed": 6,
     "status": "ok",
     "timestamp": 1755090087822,
     "user": {
      "displayName": "양승원",
      "userId": "04939558219683520192"
     },
     "user_tz": -540
    },
    "id": "wDF9JKg5mn4e",
    "outputId": "6075d610-c89b-4050-a667-3b97996ee753"
   },
   "outputs": [
    {
     "name": "stdout",
     "output_type": "stream",
     "text": [
      "1번째 업데이트 D = [9223372036854775807, 0, 6, 3, 10, 13]\n",
      "2번째 업데이트 D = [9223372036854775807, 0, 6, 3, 9, 11]\n",
      "3번째 업데이트 D = [9223372036854775807, 0, 5, 3, 9, 11]\n",
      "4번째 업데이트 D = [9223372036854775807, 0, 5, 3, 8, 10]\n"
     ]
    }
   ],
   "source": [
    "##Bellman-Ford 수행\n",
    "for i in range(V-1):\n",
    "  #V-1번 업데이트를 수행하고, 각 업데이트마다 edges의 모든 에지 정보를 반영하여 아래와 같이 업데이트\n",
    "  for s,e,w in edges:\n",
    "    if (D[s] != sys.maxsize) and (D[s] + w < D[e]):\n",
    "      D[e] = D[s] + w\n",
    "\n",
    "  print(f'{i+1}번째 업데이트 D = {D}')\n"
   ]
  },
  {
   "cell_type": "code",
   "execution_count": 7,
   "metadata": {
    "colab": {
     "base_uri": "https://localhost:8080/"
    },
    "executionInfo": {
     "elapsed": 44,
     "status": "ok",
     "timestamp": 1755090279853,
     "user": {
      "displayName": "양승원",
      "userId": "04939558219683520192"
     },
     "user_tz": -540
    },
    "id": "407G6wgspEOb",
    "outputId": "118e30f8-c383-4f4f-98eb-c53447bdd5fb"
   },
   "outputs": [
    {
     "name": "stdout",
     "output_type": "stream",
     "text": [
      "5번째 업데이트 D = [9223372036854775807, 0, 4, 3, 8, 10]\n",
      "True\n"
     ]
    }
   ],
   "source": [
    "##음수 사이클 존재 여부 확인\n",
    "Neg_Cycle = False\n",
    "\n",
    "#한번 더 업데이트 수행\n",
    "for s,e,w in edges:\n",
    "  if (D[s] != sys.maxsize) and (D[s] + w < D[e]):\n",
    "      D[e] = D[s] +w\n",
    "      Neg_Cycle = True  #만약 위의 조건이 만족하면 업데이트가 추가로 진행되므로, 음수사이클은 True가 됨.\n",
    "\n",
    "print(f'{V}번째 업데이트 D = {D}')\n",
    "print(Neg_Cycle)"
   ]
  },
  {
   "cell_type": "code",
   "execution_count": null,
   "metadata": {
    "colab": {
     "base_uri": "https://localhost:8080/"
    },
    "executionInfo": {
     "elapsed": 3,
     "status": "ok",
     "timestamp": 1755076224409,
     "user": {
      "displayName": "양승원",
      "userId": "04939558219683520192"
     },
     "user_tz": -540
    },
    "id": "tCtQuKe7r4ch",
    "outputId": "360b5c1c-1a7e-4c37-ed81-7fc7173ac386"
   },
   "outputs": [
    {
     "name": "stdout",
     "output_type": "stream",
     "text": [
      "-1\n"
     ]
    }
   ],
   "source": [
    "if not Neg_Cycle:\n",
    "  for i in range(2,V+1):\n",
    "    if D[i] != sys.maxsize:\n",
    "      print(D[i]) #노드의 최단거리값 출력\n",
    "\n",
    "    else:\n",
    "      print(-1) #도달하지못하는 노드(무한대가 아직 있음)는 -1 출력\n",
    "\n",
    "else:\n",
    "  print(-1) #음수사이클이 존재"
   ]
  },
  {
   "cell_type": "code",
   "execution_count": null,
   "metadata": {
    "id": "10olmgcusnb9"
   },
   "outputs": [],
   "source": [
    "##전체 코드\n",
    "'''\n",
    "import sys\n",
    "#input = sys.stdin.readline\n",
    "\n",
    "V,E = map(int,input().split())\n",
    "\n",
    "edges = []\n",
    "for _ in range(E):\n",
    "  s,e,w = map(int,input().split())\n",
    "  edges.append((s,e,w))\n",
    "\n",
    "D = [sys.maxsize] * (V+1)\n",
    "D[1] = 0\n",
    "\n",
    "for i in range(V-1):\n",
    "  for s,e,w in edges:\n",
    "    if (D[s] != sys.maxsize) and (D[s] + w < D[e]):\n",
    "      D[e] = D[s] + w\n",
    "\n",
    "Neg_Cycle = False\n",
    "\n",
    "for s,e,w in edges:\n",
    "  if (D[s] != sys.maxsize) and (D[s] + w < D[e]):\n",
    "      D[e] = D[s] +w\n",
    "      Neg_Cycle = True\n",
    "\n",
    "\n",
    "if not Neg_Cycle:\n",
    "  for i in range(2,V+1):\n",
    "    if D[i] != sys.maxsize:\n",
    "      print(D[i])\n",
    "    else:\n",
    "      print(-1)\n",
    "else:\n",
    "  print(-1)\n",
    "\n",
    "'''"
   ]
  },
  {
   "cell_type": "code",
   "execution_count": 11,
   "metadata": {
    "colab": {
     "base_uri": "https://localhost:8080/"
    },
    "executionInfo": {
     "elapsed": 11273,
     "status": "ok",
     "timestamp": 1755099431649,
     "user": {
      "displayName": "양승원",
      "userId": "04939558219683520192"
     },
     "user_tz": -540
    },
    "id": "TSO95Atwt3MD",
    "outputId": "7dc5b268-ec9e-40ad-d27f-d476586610e6"
   },
   "outputs": [
    {
     "name": "stdout",
     "output_type": "stream",
     "text": [
      "3 4 \n",
      "1 2 4\n",
      "1 3 3\n",
      "2 3 -4\n",
      "3 1 -2\n",
      "-1\n",
      "음수 사이클 루프: [2, 3, 1]\n"
     ]
    }
   ],
   "source": [
    "##조기 종료와 음수 사이클 노드 감지에 관하여\n",
    "import sys\n",
    "from collections import deque\n",
    "#input = sys.stdin.readline\n",
    "\n",
    "\n",
    "V,E = map(int,input().split())\n",
    "edges = []\n",
    "\n",
    "for _ in range(E):\n",
    "  s,e,w = map(int,input().split())\n",
    "  edges.append((s,e,w))\n",
    "\n",
    "D = [sys.maxsize] * (V+1)\n",
    "parent = [-1] *(V+1)  #사이클 루프 추적용(e로 들어오기 직전의 노드를 추적하도록 사용할 리스)\n",
    "D[1] = 0\n",
    "\n",
    "for i in range(V-1):\n",
    "  changed = False #업데이트 변화를 감지할 변수 추가\n",
    "  for s,e,w in edges:\n",
    "    if (D[s] != sys.maxsize) and (D[s] + w < D[e]):\n",
    "      D[e] = D[s] + w\n",
    "      parent[e] = s\n",
    "      changed = True  #업데이트가 일어나면 changed는 True\n",
    "\n",
    "  if not changed:\n",
    "    print(f'{i}번째 업데이트 후 조기종료됨')\n",
    "    break #이번 업데이트(모든 엣지를 한번 순회한 뒤)에서 변화가 없었다면 이미 최단거리값\n",
    "    #리스트가 최적화 되었으므로 for문 조기종료\n",
    "\n",
    "\n",
    "#음수 사이클을 이루는 노드들 찾아내기\n",
    "Neg_Cycle = False\n",
    "cycle_node = -1\n",
    "\n",
    "for s,e,w in edges:\n",
    "  if (D[s] != sys.maxsize) and (D[s] + w < D[e]):\n",
    "      D[e] = D[s] + w\n",
    "      parent[e] = s #역추적용(각 노드가 어디로부터 왔는지에 대한 정보 포함)\n",
    "      Neg_Cycle = True\n",
    "      cycle_node = e #사이클에 포함되어 있을 가능성이 있는 노드 저장\n",
    "\n",
    "\n",
    "if not Neg_Cycle:\n",
    "  for i in range(2,V+1):\n",
    "    if D[i] != sys.maxsize:\n",
    "      print(D[i])\n",
    "else:\n",
    "      # 음수 사이클 루프 추적\n",
    "  for _ in range(V):\n",
    "        # 루프 내부로 강제 진입(cycle_node는 음수 사이클과 연결되어 있을 수도 있지만 사이클 밖에 있을 수도 있기에\n",
    "        #V번 거슬러 올라가게 하여 사이클 안에 들어가게 함)\n",
    "    cycle_node = parent[cycle_node]\n",
    "\n",
    "    cycle = []  #사이클 경로를 저장할 리스트\n",
    "    cur = cycle_node  #현재 사이클 내부의 임의의 시작노드를 저장\n",
    "    while True:\n",
    "      cycle.append(cur) #현재 노드를 사이클 리스트에 추가\n",
    "      cur = parent[cur] #현재 노드 직전의 노드로 이동(parent 사용)\n",
    "      if cur == cycle_node:\n",
    "        break #시작지점으로 돌아오면 사이클을 순회한 것으로 종료\n",
    "    cycle.reverse() #거꾸로 올라가며 사이클을 저장했으므로 역순하여 실제 이동 흐름처럼 바꿔줌\n",
    "\n",
    "\n",
    "  print(-1)  # 문제 포맷에 맞춘 출력\n",
    "  print(f\"음수 사이클 루프: {cycle}\")\n",
    "\n",
    "\n",
    "\n"
   ]
  },
  {
   "cell_type": "markdown",
   "metadata": {
    "id": "PAn97UGd2eje"
   },
   "source": [
    "참고)\n",
    "노드 그래프 그리는 사이트: https://magjac.com/graphviz-visual-editor/"
   ]
  }
 ],
 "metadata": {
  "colab": {
   "authorship_tag": "ABX9TyNKjmYKzPpVze0bQ3ksYS4r",
   "provenance": []
  },
  "kernelspec": {
   "display_name": "Python 3",
   "name": "python3"
  },
  "language_info": {
   "name": "python"
  }
 },
 "nbformat": 4,
 "nbformat_minor": 0
}

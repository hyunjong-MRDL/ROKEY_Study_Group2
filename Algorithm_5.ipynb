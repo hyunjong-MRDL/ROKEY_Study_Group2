{
 "cells": [
  {
   "cell_type": "markdown",
   "metadata": {
    "id": "MRqJxSsTmWD3"
   },
   "source": [
    "# Dynamic Programming(동적 계획법,DP)\n",
    "\n",
    "동적 계획법의 사전적 정의를 위키피디아에서 살펴보면,\n",
    "\n",
    "\n",
    "'동적 계획법(動的計劃法, dynamic programming)이란 복잡한 문제를 간단한 여러 개의 문제로 나누어 푸는 방법을 말한다. 이것은 부분 문제 반복과 최적 부분 구조를 가지고 있는 알고리즘을 일반적인 방법에 비해 더욱 적은 시간 내에 풀 때 사용한다. 주어진 문제를 풀기 위해서, 문제를 여러 개의 하위 문제(subproblem)로 나누어 푼 다음, 그것을 결합하여 최종적인 목적에 도달하는 것이다.'\n",
    "\n",
    "라고 나와있다.\n",
    "\n",
    "그러나 실제 DP 문제를 풀려고 해보면 생각보다 어려움이 많은 것을 느끼게 된다. 따라서 DP 문제를 풀 때 가장 어려운이 되는 부분이 뭔지를 파악해야 하며 아래 사항들을 고려해 보는게 좋다.\n"
   ]
  },
  {
   "cell_type": "markdown",
   "metadata": {
    "id": "QEk-As6YsmIa"
   },
   "source": [
    "1. 위에서 정의한 대로 문제의 성향이 하위 문제로 나눌 수 있는 문제인지,즉 부분 문제 반복(Overlapping Subproblems)과 최적 부분 구조(Optimal Substructure)를 갖추고 있는지 확인해야 한다.\n",
    "\n",
    "(여기서 부분 문제 반복이란 피보나치 수열처럼 큰 문제를 작은 문제로 쪼갤 때, 서로 겹치는 하위 문제가 자주 등장한다는 성질을 말하며, 최적 부분 구조란 최단경로 찾기 문제(벨만포드,플로이드 워셜 등)처럼 큰 문제의 최적 해답이 작은 문제들의 최적 해답으로부터 구성될 수 있다는 성질을 말한다.)\n",
    "\n",
    "2. 하위 문제와 상위 문제를 연결시킬 수 있는 매개변수를 어떻게 구성해야 하는지 생각해 봐야 한다(아래서 고려할 점화식을 세우는 데도 중요). 또한 해당 문제에서 구하려는 값을 어떤 값이나 테이블의 형태로 저장할 수 있을지 생각해 보아야 한다. 즉 하위 문제의 계산 결과를 저장하여 상위 문제를 푸는데 활용할 수 있으려면(메모이제이션) 어떤 형태로 저장할 수 있을지 고민해 보아야 한다.\n",
    "\n",
    "3. 해당 문제의 조건을 포함하여 하위 문제와 상위 문제를 연결시키는 점화식(recurrence relation)을 어떻게 구성할 수 있을지 생각해 보아야 한다.\n",
    "\n",
    "4. 마지막으로 점화식에 있어서 초기값 또는 따로 정의되는 예외 값에 대해 고려해보면 된다."
   ]
  },
  {
   "cell_type": "markdown",
   "metadata": {
    "id": "Qr5BpeUqsiJi"
   },
   "source": [
    "위 고려사항들을 생각해보며 쉬운 문제 두 문제를 풀어보자."
   ]
  },
  {
   "cell_type": "markdown",
   "metadata": {
    "id": "n7LDOTA-tEDF"
   },
   "source": [
    "#백준10844번:쉬운 계단 수\n",
    "\n",
    "##문제:\n",
    "\n",
    "45656이란 수를 보자.\n",
    "\n",
    "이 수는 인접한 모든 자리의 차이가 1이다. 이런 수를 계단 수라고 한다.\n",
    "\n",
    "N이 주어질 때, 길이가 N인 계단 수가 총 몇 개 있는지 구해보자. 0으로 시작하는 수는 계단수가 아니다.\n",
    "\n",
    "\n",
    "##입력:\n",
    "\n",
    "첫째 줄에 N이 주어진다. N은 1보다 크거나 같고, 100보다 작거나 같은 자연수이다.\n",
    "\n",
    "##출력:\n",
    "\n",
    "첫째 줄에 정답을 1,000,000,000으로 나눈 나머지를 출력한다.\n",
    "\n",
    "<img src=\"https://raw.githubusercontent.com/hyunjong-MRDL/ROKEY_Study_Group2/sw/img/10844/10844_1.png\" width=\"600\" height=\"600\">\n"
   ]
  },
  {
   "cell_type": "markdown",
   "metadata": {
    "id": "0wo9ZNIDuaIU"
   },
   "source": [
    "## 문제 접근\n",
    "\n",
    "먼저 이 문제는 Dynamic Progaming으로 풀 수 있는가?\n",
    "\n",
    "즉, '하위 문제가 상위 문제를 푸는데 도움이 되는가?' 라고 묻는다면, 길이가 n인 계단수를 구하고 나면 계단수의 맨 마지막 숫자를 고려하여 다음 길이 n+1인 계단수도 수도 이어서 적어줄 수 있으므로 가능할 것 같다.(예- 지금 123이라는 계단수가 있으면 1234,1232를 만들어낼 수 있음)\n",
    "\n",
    "그럼 이 문제를 풀기 위해서는 어떤 매개변수를 사용하여야 할까? 생각해보면 하위 문제가 상위문제에 영향을 줄 수 있는 변수가 두가지 있다. 그건 계단수의 길이와 계단수의 맨 마지막 숫자이다. 따라서 두 변수를 다루기 위한 테이블을 만들어 저장하는 것이 좋을 듯 하다. (예- D[i][j]라는 2차원 배열 테이블을 만들어 그 배열에 길이가 i이고 마지막 숫자가 j인 계단수의 개수를 저장할 수 있다.)\n",
    "\n",
    "###배열 정의:$D[i][j]$\n",
    "\n",
    "###(여기서, i:계단수 길이, j:계단수 마지막 숫자, D:i,j를 만족하는 계단수의 개수)\n",
    "\n",
    "이제 하위 문제와 상위 문제를 연결해 줄 수 있는 점화식을 고려해 보자. 맨 마지막 숫자가 어떤 x라는 숫자이면, 이전 숫자는 x-1또는 x+1 이어야 한다(길이 5인 계단수에서 맨 마지막 숫자가 4라면 \\*\\*\\*54,또는\\*\\*\\*34라는 뜻). 즉, 길이 i이고 마지막 숫자 j인 계단수의 개수는 마지막 숫자를 제외한 숫자들만 고려할 시 길이 i-1이고 그 숫자가 j-1 또는 j+1인 계단수의 개수와 같다는 말이다. 이를 점화식으로 표현하면 D[i][j] = D[i-1][j-1] + D[i-1][j+1]가 된다. (예- D[3][3]=D[2][2]+D[2][4]이며,D[2][2]는 32&12로 두개이며 D[2][4]는 34&54로 두개가 있다. 또한 D[3][3]은 323&123&343&543으로 4개가 있으며 이는 하위 문제인 D[2][2]와 D[2][4]를 더한 값이다.)\n",
    "\n",
    "###점화식: $D[i][j] = D[i-1][j-1] + D[i-1][j+1]$\n",
    "\n",
    "마지막으로 초기 조건을 고려해 보면, 저 점화식을 푸는 시작점이 되는 지점은 길이가 1인 D[1][j]값들이다.(i인 값을 구하려면 i-1인 값이 필요하고 또다시 i-2값이 필요하고 반복되다보면 길이가 1인 값이 필요하게 됨) 길이가 1인 계단수들은 각각 1~9 자기 자신에 해당하는 정수값들만으로 구성되므로 계단수 개수가 1이다. 즉, D[1][j] = 1 (j=1,2,3,...,9)\n",
    "\n",
    "###초기조건:$D[1][j] = 1 \\quad (j=1,2,3,...,9)$\n",
    "\n",
    "또한 점화식의 예외 조건을 고려해보면 위 점화식으로만 정의하면 j=0일 때와 j=9일 때 범위를 넘어서는 숫자가 포함되게 된다.(j=0이면, D[i-1][-1]이 필요하게 되고, j=9이면 D[i-1][10]이 필요하게 되므로 구할 수 없다.) 따라서 j=0일 때와 j=9일 때만 따로 점화식을 정의해줘야 한다. 위에서 구한 점화식에서 구할수 없는 항만 제거하고 정의해주면 된다.\n",
    "\n",
    "###점화식 예외조건:\n",
    "###$D[i][j] = D[i-1][j+1] \\quad (j = 0)$,\n",
    "###$D[i][j] = D[i-1][j-1] \\quad (j=9)$\n",
    "\n"
   ]
  },
  {
   "cell_type": "markdown",
   "metadata": {
    "id": "n2tmpLJDDnjk"
   },
   "source": [
    "##코드 작성"
   ]
  },
  {
   "cell_type": "code",
   "execution_count": 8,
   "metadata": {
    "colab": {
     "base_uri": "https://localhost:8080/"
    },
    "executionInfo": {
     "elapsed": 1831,
     "status": "ok",
     "timestamp": 1756526013841,
     "user": {
      "displayName": "양승원",
      "userId": "04939558219683520192"
     },
     "user_tz": -540
    },
    "id": "SbUodwQLDphj",
    "outputId": "9b55b4b5-482d-4298-9028-cc159a07e22f"
   },
   "outputs": [
    {
     "name": "stdout",
     "output_type": "stream",
     "text": [
      "5\n",
      "=====D-table=====\n",
      "계단수의 끝 숫자->    0  1  2  3  4  5  6  7  8  9\n",
      "___________________________________________________\n",
      "길이 0인 계단수 개수:[0, 0, 0, 0, 0, 0, 0, 0, 0, 0]\n",
      "길이 1인 계단수 개수:[0, 0, 0, 0, 0, 0, 0, 0, 0, 0]\n",
      "길이 2인 계단수 개수:[0, 0, 0, 0, 0, 0, 0, 0, 0, 0]\n",
      "길이 3인 계단수 개수:[0, 0, 0, 0, 0, 0, 0, 0, 0, 0]\n",
      "길이 4인 계단수 개수:[0, 0, 0, 0, 0, 0, 0, 0, 0, 0]\n",
      "길이 5인 계단수 개수:[0, 0, 0, 0, 0, 0, 0, 0, 0, 0]\n"
     ]
    }
   ],
   "source": [
    "##입력받기\n",
    "N = int(input())  #계단수의 길이\n",
    "D=[[0 for j in range(10)] for i in range(N+1)]  #j는 계단수의 맨 마지막 숫자를 의미하며, 0~9의정수. 이를 1~N까지 테이블화 해야 하지만, 인덱스 번호를 맞추기 위해 N+1까지 생성\n",
    "\n",
    "\n",
    "print('=====D-table=====')\n",
    "\n",
    "print('계단수의 끝 숫자->    0  1  2  3  4  5  6  7  8  9')\n",
    "print('___________________________________________________')\n",
    "for idx,row in enumerate(D):\n",
    "  print(f'길이 {idx}인 계단수 개수:{row}')"
   ]
  },
  {
   "cell_type": "code",
   "execution_count": 9,
   "metadata": {
    "colab": {
     "base_uri": "https://localhost:8080/"
    },
    "executionInfo": {
     "elapsed": 25,
     "status": "ok",
     "timestamp": 1756526105618,
     "user": {
      "displayName": "양승원",
      "userId": "04939558219683520192"
     },
     "user_tz": -540
    },
    "id": "8aCWQilNGGgR",
    "outputId": "8f7a94d7-2b77-415b-972d-1434367def40"
   },
   "outputs": [
    {
     "name": "stdout",
     "output_type": "stream",
     "text": [
      "=====D-table=====\n",
      "계단수의 끝 숫자->    0  1  2  3  4  5  6  7  8  9\n",
      "___________________________________________________\n",
      "길이 0인 계단수 개수:[0, 0, 0, 0, 0, 0, 0, 0, 0, 0]\n",
      "길이 1인 계단수 개수:[0, 1, 1, 1, 1, 1, 1, 1, 1, 1]\n",
      "길이 2인 계단수 개수:[0, 0, 0, 0, 0, 0, 0, 0, 0, 0]\n",
      "길이 3인 계단수 개수:[0, 0, 0, 0, 0, 0, 0, 0, 0, 0]\n",
      "길이 4인 계단수 개수:[0, 0, 0, 0, 0, 0, 0, 0, 0, 0]\n",
      "길이 5인 계단수 개수:[0, 0, 0, 0, 0, 0, 0, 0, 0, 0]\n"
     ]
    }
   ],
   "source": [
    "##초기조건\n",
    "for j in range(1,10):\n",
    "  D[1][j] = 1\n",
    "\n",
    "print('=====D-table=====')\n",
    "\n",
    "print('계단수의 끝 숫자->    0  1  2  3  4  5  6  7  8  9')\n",
    "print('___________________________________________________')\n",
    "for idx,row in enumerate(D):\n",
    "  print(f'길이 {idx}인 계단수 개수:{row}')"
   ]
  },
  {
   "cell_type": "code",
   "execution_count": 10,
   "metadata": {
    "colab": {
     "base_uri": "https://localhost:8080/"
    },
    "executionInfo": {
     "elapsed": 24,
     "status": "ok",
     "timestamp": 1756526298933,
     "user": {
      "displayName": "양승원",
      "userId": "04939558219683520192"
     },
     "user_tz": -540
    },
    "id": "xgyyXIHgHcPx",
    "outputId": "6f6bdaf6-da1e-4e37-e318-e6fb34ecacd4"
   },
   "outputs": [
    {
     "name": "stdout",
     "output_type": "stream",
     "text": [
      "=====D-table=====\n",
      "계단수의 끝 숫자->    0  1  2  3  4  5  6  7  8  9\n",
      "___________________________________________________\n",
      "길이 0인 계단수 개수:[0, 0, 0, 0, 0, 0, 0, 0, 0, 0]\n",
      "길이 1인 계단수 개수:[0, 1, 1, 1, 1, 1, 1, 1, 1, 1]\n",
      "길이 2인 계단수 개수:[1, 1, 2, 2, 2, 2, 2, 2, 2, 1]\n",
      "길이 3인 계단수 개수:[1, 3, 3, 4, 4, 4, 4, 4, 3, 2]\n",
      "길이 4인 계단수 개수:[3, 4, 7, 7, 8, 8, 8, 7, 6, 3]\n",
      "길이 5인 계단수 개수:[4, 10, 11, 15, 15, 16, 15, 14, 10, 6]\n"
     ]
    }
   ],
   "source": [
    "##점화식\n",
    "for i in range(2,N+1):\n",
    "  #예외조건\n",
    "  D[i][0] = D[i-1][1]\n",
    "  D[i][9] = D[i-1][8]\n",
    "  #위 예외조건을 제외한 j에 대해 일반 점화식\n",
    "  for j in range(1,9):\n",
    "    D[i][j] = D[i-1][j-1] + D[i-1][j+1]\n",
    "\n",
    "print('=====D-table=====')\n",
    "\n",
    "print('계단수의 끝 숫자->    0  1  2  3  4  5  6  7  8  9')\n",
    "print('___________________________________________________')\n",
    "for idx,row in enumerate(D):\n",
    "  print(f'길이 {idx}인 계단수 개수:{row}')"
   ]
  },
  {
   "cell_type": "code",
   "execution_count": 11,
   "metadata": {
    "colab": {
     "base_uri": "https://localhost:8080/"
    },
    "executionInfo": {
     "elapsed": 14,
     "status": "ok",
     "timestamp": 1756526819927,
     "user": {
      "displayName": "양승원",
      "userId": "04939558219683520192"
     },
     "user_tz": -540
    },
    "id": "Gq5tKjLWIR92",
    "outputId": "16a2d26b-2889-4fcd-b673-92f42ef935a2"
   },
   "outputs": [
    {
     "name": "stdout",
     "output_type": "stream",
     "text": [
      "116\n"
     ]
    }
   ],
   "source": [
    "#정답출력\n",
    "\n",
    "#구하려는 값은 길이 N인 모든 계단수의 개수이므로 행N에서의 모든 숫자를 더하면 됨(해당 행의 각 열은 끝자리 숫자별로 구분해놓은 것이므로)\n",
    "sum = 0\n",
    "\n",
    "for j in range(10):\n",
    "  sum = sum + D[N][j]\n",
    "\n",
    "sum %= 1000000000\n",
    "\n",
    "print(sum)"
   ]
  },
  {
   "cell_type": "code",
   "execution_count": 16,
   "metadata": {
    "colab": {
     "base_uri": "https://localhost:8080/"
    },
    "executionInfo": {
     "elapsed": 1738,
     "status": "ok",
     "timestamp": 1756526907537,
     "user": {
      "displayName": "양승원",
      "userId": "04939558219683520192"
     },
     "user_tz": -540
    },
    "id": "1pUVMEDQWe5l",
    "outputId": "103b5334-4edc-423e-976d-36a7dc947ecb"
   },
   "outputs": [
    {
     "name": "stdout",
     "output_type": "stream",
     "text": [
      "4\n",
      "61\n"
     ]
    }
   ],
   "source": [
    "#백준 10844번 전체 코드\n",
    "# import sys\n",
    "# sys.stdin.readline\n",
    "\n",
    "N = int(input())\n",
    "D=[[0 for j in range(10)] for i in range(N+1)]\n",
    "\n",
    "for j in range(1,10):\n",
    "  D[1][j] = 1\n",
    "\n",
    "for i in range(2,N+1):\n",
    "  D[i][0] = D[i-1][1]\n",
    "  D[i][9] = D[i-1][8]\n",
    "  for j in range(1,9):\n",
    "    D[i][j] = D[i-1][j-1] + D[i-1][j+1]\n",
    "\n",
    "sum = 0\n",
    "\n",
    "for j in range(10):\n",
    "  sum = sum + D[N][j]\n",
    "\n",
    "sum %= 1000000000\n",
    "\n",
    "print(sum)"
   ]
  },
  {
   "cell_type": "markdown",
   "metadata": {
    "id": "DNaBDrzRKkEC"
   },
   "source": [
    "#백준1149번:RGB거리\n",
    "\n",
    "##문제:\n",
    "\n",
    "RGB거리에는 집이 N개 있다. 거리는 선분으로 나타낼 수 있고, 1번 집부터 N번 집이 순서대로 있다.\n",
    "\n",
    "집은 빨강, 초록, 파랑 중 하나의 색으로 칠해야 한다. 각각의 집을 빨강, 초록, 파랑으로 칠하는 비용이 주어졌을 때, 아래 규칙을 만족하면서 모든 집을 칠하는 비용의 최솟값을 구해보자.\n",
    "\n",
    "*   1번 집의 색은 2번 집의 색과 같지 않아야 한다.\n",
    "*   N번 집의 색은 N-1번 집의 색과 같지 않아야 한다.\n",
    "*   i(2 ≤ i ≤ N-1)번 집의 색은 i-1번, i+1번 집의 색과 같지 않아야 한다.\n",
    "\n",
    "##입력:\n",
    "\n",
    "첫째 줄에 집의 수 N(2 ≤ N ≤ 1,000)이 주어진다. 둘째 줄부터 N개의 줄에는 각 집을 빨강, 초록, 파랑으로 칠하는 비용이 1번 집부터 한 줄에 하나씩 주어진다. 집을 칠하는 비용은 1,000보다 작거나 같은 자연수이다.\n",
    "\n",
    "##출력:\n",
    "\n",
    "첫째 줄에 모든 집을 칠하는 비용의 최솟값을 출력한다.\n",
    "\n",
    "\n",
    "<img src=\"https://raw.githubusercontent.com/hyunjong-MRDL/ROKEY_Study_Group2/sw/img/1149/1149_1.png\" width=\"600\" height=\"600\">\n",
    "\n",
    "<img src=\"https://raw.githubusercontent.com/hyunjong-MRDL/ROKEY_Study_Group2/sw/img/1149/1149_2.png\" width=\"600\" height=\"600\">"
   ]
  },
  {
   "cell_type": "markdown",
   "metadata": {
    "id": "JBmYDILdMaol"
   },
   "source": [
    "## 문제 접근\n",
    "\n",
    "먼저 DP로 풀 수 있는지 생각해보자. 앞선 10844번 문제와 마찬가지로 N-1번째 집까지 색칠했을 때의 최소비용을 알 수 있다면 N번째 집은 N-1번째 집의 색깔에 의존하여 남은 2가지 색 중 하나로 색칠하게 되므로 최소비용을 알 수 있게 된다. 따라서 이 문제도 DP로 풀 수 있을 것 같다.\n",
    "\n",
    "다음으로 매개변수와 배열을 어떻게 구성하면 좋을지 생각해보자. 먼저 하위 문제가 상위 문제에 영향을 주는지 고려해보면,마지막 집의 색깔은 그 이전 집의 색깔에 영향을 받는다. 따라서 {R,G,B}로 이루어진 매개변수 c를 받고, 해당 집이 거리에서 몇번째 집인지를 알려주는 i라는 변수가 있으면 될 것 같다. 이 2차원 배열에 각각 처음부터 해당 집(i번째)까지 색칠했을 때(그중에서도 c로 색칠했을 때)의 전체 최소비용을 담으면 된다. 또한 입력으로 받아올 각 집을 c로 색칠할 때의 각 비용도 배열로 저장해야 한다.\n",
    "\n",
    "### 배열정의: $DP[i][c]$, $Cost[i][c] \\quad c∈\\{'R','G','B'\\}$\n",
    "###(여기서i:집의 위치(인덱스), c:색깔, DP:i번째 집까지 모두 색칠했을 때 그중에서 i번째 집을 색깔 c로 색칠하는 전체 최소비용,Cost:i번째집을 c로 색칠하는 단일비용)\n",
    "\n",
    "이제 점화식을 구성하면 되는데, c='R',c='G',c='B'일 때의 각각의 점화식을 생각해볼 수 있다. 예를 들어 c='R'이면 DP[i][c='R']은 DP[i-1][c='G'],DP[i-1][c='B'] 중 작은 값에서 현재 집의 색칠 비용을 추가해 주어야 하므로(지금 구하려는 것이 최소 비용이므로) DP[i][c='R'] = min(DP[i-1][c='G'],DP[i-1][c='B']) + Cost[i][c='R']\n",
    "\n",
    "이와 같은 방식으로 점화식을 모두 작성하면 다음과 같다.\n",
    "\n",
    "### 점화식:\n",
    "\n",
    "### $DP[i]['R'] = min(DP[i-1]['G'],DP[i-1]['B']) + Cost[i]['R']$\n",
    "### $DP[i]['G'] = min(DP[i-1]['R'],DP[i-1]['B']) + Cost[i]['G']$\n",
    "### $DP[i]['B'] = min(DP[i-1]['R'],DP[i-1]['G']) + Cost[i]['B']$\n",
    "\n",
    "마지막으로 초기 조건은 1번 집의 DP값은 그냥 Cost 자체라는 것이다. 따로 예외 조건은 없다.\n",
    "\n",
    "### $DP[1]['R'] = cost[1]['R']$\n",
    "### $DP[1]['G'] = cost[1]['G']$\n",
    "### $DP[1]['B'] = cost[1]['B']$\n"
   ]
  },
  {
   "cell_type": "markdown",
   "metadata": {
    "id": "7DMt4_uaXDby"
   },
   "source": [
    "##코드 작성"
   ]
  },
  {
   "cell_type": "code",
   "execution_count": 28,
   "metadata": {
    "colab": {
     "base_uri": "https://localhost:8080/"
    },
    "executionInfo": {
     "elapsed": 9910,
     "status": "ok",
     "timestamp": 1756531363797,
     "user": {
      "displayName": "양승원",
      "userId": "04939558219683520192"
     },
     "user_tz": -540
    },
    "id": "mzkYjGNlKjvz",
    "outputId": "cf2b5d3c-dd1e-47a1-c823-3efc4f953b07"
   },
   "outputs": [
    {
     "name": "stdout",
     "output_type": "stream",
     "text": [
      "3\n",
      "1 100 100\n",
      "100 100 100\n",
      "1 100 100\n",
      "====================================================================================================\n",
      "None\n",
      "[1, 100, 100]\n",
      "[100, 100, 100]\n",
      "[1, 100, 100]\n"
     ]
    }
   ],
   "source": [
    "##입력 받기\n",
    "\n",
    "N = int(input())  #집의 개수\n",
    "\n",
    "#Cost 빈 배열 생성\n",
    "Cost = [None]*(N+1) #i번째 집에 c 를 색칠할 Cost 배열 생성(편의상 0:'R',1:'G',2:'B')에 매핑되었다고 생각한다.\n",
    "\n",
    "#입력을 받아 Cost배열 채우기\n",
    "for i in range(1, N+1):\n",
    " r,g,b = map(int,input().split())\n",
    " Cost[i] = [r,g,b]\n",
    "\n",
    "print('='*100)\n",
    "for row in Cost:\n",
    "  print(row)"
   ]
  },
  {
   "cell_type": "code",
   "execution_count": 31,
   "metadata": {
    "colab": {
     "base_uri": "https://localhost:8080/"
    },
    "executionInfo": {
     "elapsed": 16,
     "status": "ok",
     "timestamp": 1756531609740,
     "user": {
      "displayName": "양승원",
      "userId": "04939558219683520192"
     },
     "user_tz": -540
    },
    "id": "4onmIuG6Z7G6",
    "outputId": "db999d96-7104-4c84-ebb9-8e83329c5bc5"
   },
   "outputs": [
    {
     "name": "stdout",
     "output_type": "stream",
     "text": [
      "====================================================================================================\n",
      "[None, None, None]\n",
      "[1, 100, 100]\n",
      "[None, None, None]\n",
      "[None, None, None]\n"
     ]
    }
   ],
   "source": [
    "##DP 배열 생성과 초기조건\n",
    "\n",
    "DP = [[None]*3 for _ in range(N+1)]\n",
    "\n",
    "for c in range(3):\n",
    "  DP[1][c] = Cost[1][c]\n",
    "\n",
    "print('='*100)\n",
    "for row in DP:\n",
    "  print(row)"
   ]
  },
  {
   "cell_type": "code",
   "execution_count": 32,
   "metadata": {
    "colab": {
     "base_uri": "https://localhost:8080/"
    },
    "executionInfo": {
     "elapsed": 15,
     "status": "ok",
     "timestamp": 1756531791319,
     "user": {
      "displayName": "양승원",
      "userId": "04939558219683520192"
     },
     "user_tz": -540
    },
    "id": "4fD0629ycP3_",
    "outputId": "ba6353bf-3b7a-431a-8c44-8af0ce768558"
   },
   "outputs": [
    {
     "name": "stdout",
     "output_type": "stream",
     "text": [
      "====================================================================================================\n",
      "[None, None, None]\n",
      "[1, 100, 100]\n",
      "[200, 101, 101]\n",
      "[102, 201, 201]\n"
     ]
    }
   ],
   "source": [
    "##점화식\n",
    "\n",
    "for i in range(2,N+1):\n",
    "  DP[i][0] = min(DP[i-1][1],DP[i-1][2]) + Cost[i][0]\n",
    "  DP[i][1] = min(DP[i-1][0],DP[i-1][2]) + Cost[i][1]\n",
    "  DP[i][2] = min(DP[i-1][0],DP[i-1][1]) + Cost[i][2]\n",
    "\n",
    "print('='*100)\n",
    "for row in DP:\n",
    "  print(row)"
   ]
  },
  {
   "cell_type": "code",
   "execution_count": 33,
   "metadata": {
    "colab": {
     "base_uri": "https://localhost:8080/"
    },
    "executionInfo": {
     "elapsed": 15,
     "status": "ok",
     "timestamp": 1756531952679,
     "user": {
      "displayName": "양승원",
      "userId": "04939558219683520192"
     },
     "user_tz": -540
    },
    "id": "vgzhOi5mdCkb",
    "outputId": "dd701bfb-244d-4981-c81f-001c78723151"
   },
   "outputs": [
    {
     "name": "stdout",
     "output_type": "stream",
     "text": [
      "102\n"
     ]
    }
   ],
   "source": [
    "##정답출력\n",
    "\n",
    "#정답은 DP배열의 N행에서의 최솟값이다.(이 값이 전체 색칠에 드는 최소비용을 의미하므로)\n",
    "print(min(DP[N]))"
   ]
  },
  {
   "cell_type": "code",
   "execution_count": null,
   "metadata": {
    "id": "Y_rh57hFdr_v"
   },
   "outputs": [],
   "source": [
    "#백준 1149번 전체 코드\n",
    "# import sys\n",
    "# sys.stdin.readline\n",
    "\n",
    "N = int(input())\n",
    "Cost = [None]*(N+1)\n",
    "\n",
    "for i in range(1, N+1):\n",
    " r,g,b = map(int,input().split())\n",
    " Cost[i] = [r,g,b]\n",
    "\n",
    "DP = [[None]*3 for _ in range(N+1)]\n",
    "\n",
    "for c in range(3):\n",
    "  DP[1][c] = Cost[1][c]\n",
    "\n",
    "for i in range(2,N+1):\n",
    "  DP[i][0] = min(DP[i-1][1],DP[i-1][2]) + Cost[i][0]\n",
    "  DP[i][1] = min(DP[i-1][0],DP[i-1][2]) + Cost[i][1]\n",
    "  DP[i][2] = min(DP[i-1][0],DP[i-1][1]) + Cost[i][2]\n",
    "\n",
    "print(min(DP[N]))"
   ]
  }
 ],
 "metadata": {
  "colab": {
   "authorship_tag": "ABX9TyODnnJ9ug+8VTOf59kMfT+3",
   "provenance": []
  },
  "kernelspec": {
   "display_name": "Python 3",
   "name": "python3"
  },
  "language_info": {
   "name": "python"
  }
 },
 "nbformat": 4,
 "nbformat_minor": 0
}

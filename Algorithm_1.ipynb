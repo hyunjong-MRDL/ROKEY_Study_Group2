{
  "nbformat": 4,
  "nbformat_minor": 0,
  "metadata": {
    "colab": {
      "provenance": []
    },
    "kernelspec": {
      "name": "python3",
      "display_name": "Python 3"
    },
    "language_info": {
      "name": "python"
    }
  },
  "cells": [
    {
      "cell_type": "markdown",
      "source": [
        "#백준 7562번 : 나이트의 이동\n",
        "\n",
        "\n",
        "##문제: 체스판 위에 한 나이트가 놓여져 있다. 나이트가 한 번에 이동할 수 있는 칸은 아래 그림에 나와있다. 나이트가 이동하려고 하는 칸이 주어진다. 나이트는 몇 번 움직이면 이 칸으로 이동할 수 있을까?\n",
        "\n",
        " <img src=\"https://drive.google.com/uc?export=view&id=1NKk9B7bJu6Q5sWttzoRAoCVNdlBEpm6B\" width=\"300\" height=\"300\">\n",
        "\n",
        "##입력:\n",
        "입력의 첫째 줄에는 테스트 케이스의 개수가 주어진다.\n",
        "\n",
        "각 테스트 케이스는 세 줄로 이루어져 있다. 첫째 줄에는 체스판의 한 변의 길이 l(4 ≤ l ≤ 300)이 주어진다. 체스판의 크기는 l × l이다. 체스판의 각 칸은 두 수의 쌍 {0, ..., l-1} × {0, ..., l-1}로 나타낼 수 있다. 둘째 줄과 셋째 줄에는 나이트가 현재 있는 칸, 나이트가 이동하려고 하는 칸이 주어진다.\n",
        "\n",
        "##출력:\n",
        "각 테스트 케이스마다 나이트가 최소 몇 번만에 이동할 수 있는지 출력한다.\n",
        " <img src=\"https://drive.google.com/uc?export=view&id=1ceESPIh4WeNBIRkw8EVe7HgSEG1Q1hw4\" width=\"1000\" height=\"300\">\n",
        "\n",
        "\n",
        "\n",
        "##풀이:\n",
        "  먼저 최소경로(이동횟수)를 구하는 문제이며, 이동간에는 가중치가 적용되지 않으므로 BFS방식을 적용할 수 있다. BFS는 queue 자료구조(선입선출식)를 사용하여 구현할 수 있으며,queue를 구현 시 그냥 pop(0)로 구현하면 시간복잡도가 O(n)이어서 테스트에서 시간초과가 되기 때문에 deque를 import하여 시간복잡도가 O(1)인 popleft()함수를 활용한다.\n",
        "\n",
        "  코드 구현설명은 다음과 같음.\n",
        "\n",
        "  1. 먼저 체스판의 길이(칸 개수),시작좌표,목표좌표를 입력받는 bfs함수를 생성하고 queue와 방문집합을 만들어줌.이 때 queue에는 시작좌표와 0을 넣어줌. 이 queue에는 (x,y,l)형태로 좌표값과 그 좌표에 도달하기까지의 최단경로 이동횟수를 넣어줄 것임.BFS 탐색 방식이므로 그 좌표를 방문하는 순간 최단경로를 보장할 수 있으므로 x,y에 따라 l도 지정해줄 수 있음.\n",
        "\n",
        "  2. queue가 빈 객체가 되어 모든 탐색이 완료되기 전까지 while문을 통해 아래 과정들(3~5)을 실행\n",
        "\n",
        "  3. queue자료이므로 popleft()함수를 이용하여 (x,y,l) 형태로 저장된 튜플(좌표와 그 좌표로의 최단경로횟수)을 뽑아오고, 뽑아온 좌표가 이미 방문집합 내 있다면 continue를 통해 while문 처음으로 돌아가 다시 튜플을 뽑는 과정으로 돌아감.\n",
        "\n",
        "  4. 만약 방문 리스트에 없어 if문을 빠져나왔을 시, 방문 표시를 해주고 그 방문 좌표가 목표 좌표인지 확인 후, 목표 좌표가 맞다면 l값 즉, 최단 경로 이동횟수를 반환함.\n",
        "\n",
        "  5. 목표좌표가 아니라면 인접 노드, 즉 나이트가 갈 수 있는 좌표들을 탐색할 좌표들 리스트인 queue에 넣어줌. 이 때 나이트가 이동할 수 없는 좌표들은 추가해줄 때 걸러줘야 하므로(체스판 밖으로의 이동 또는 이미 방문한 좌표들을 말함) if문으로 이동 불가 좌표들을 걸러주고, 이동 후 새로운 나이트의 좌표와 함께 l의 값은 1 증가시켜 queue에 추가해줌.\n",
        "\n",
        "\n"
      ],
      "metadata": {
        "id": "YRvSnDjtVwKg"
      }
    },
    {
      "cell_type": "code",
      "execution_count": null,
      "metadata": {
        "colab": {
          "base_uri": "https://localhost:8080/"
        },
        "id": "JZ8wDTEzVlUC",
        "outputId": "34a1b667-0212-46ef-e771-2d0754de2df8"
      },
      "outputs": [
        {
          "output_type": "stream",
          "name": "stdout",
          "text": [
            "--입력--\n",
            "3\n",
            "8\n",
            "0 0\n",
            "7 0\n",
            "100\n",
            "0 0\n",
            "30 50\n",
            "10\n",
            "1 1\n",
            "1 1\n",
            "--출력--\n",
            "5\n",
            "28\n",
            "0\n"
          ]
        }
      ],
      "source": [
        "from collections import deque\n",
        "\n",
        "def bfs(c_board, start, goal):\n",
        "    # 전달 인수 c_board는 체스판의 한변의 길이(칸 개수), start는 탐색 시작 좌표, goal은 최단경로(이동횟수)를 구할 목표 좌표\n",
        "    x, y = start\n",
        "\n",
        "    queue = deque() #queue 생성\n",
        "    queue.append((x, y, 0))  # (현재 좌표 x, y, 이동한 횟수)->시작좌표를 추가해줌\n",
        "    visited = set()          # 방문한 좌표 집합\n",
        "\n",
        "    while queue:\n",
        "        x, y, l = queue.popleft()  # 현재 좌표와 이동 횟수\n",
        "\n",
        "        # 이미 방문한 경우 skip(while문 처음으로 돌아가 다른 좌표를 pop해온다)\n",
        "        if (x, y) in visited:\n",
        "            continue\n",
        "\n",
        "        # 방문 표시\n",
        "        visited.add((x, y))\n",
        "\n",
        "        # 목표 좌표에 도착한 경우 이동 횟수 반환\n",
        "        if (x, y) == goal:\n",
        "            return l\n",
        "\n",
        "        # 나이트가 이동할 수 있는 방향들\n",
        "        directions = [(-2,1), (-2,-1), (-1,-2), (1,-2), (2,1), (2,-1), (-1,2), (1,2)]\n",
        "\n",
        "        #인접 노드들을 리스트에 추가(즉, 나이트가 갈 수 있는 경로들의 좌표를 추가)\n",
        "        for dx, dy in directions:\n",
        "            nx, ny = x + dx, y + dy\n",
        "            # 유효한 좌표 범위 내이고 아직 방문하지 않았다면 큐에 추가\n",
        "            if 0 <= nx < c_board and 0 <= ny < c_board and (nx, ny) not in visited:\n",
        "                queue.append((nx, ny, l + 1))\n",
        "\n",
        "# 테스트 케이스 입력 및 출력\n",
        "print('--입력--')\n",
        "test_num = int(input())\n",
        "ans = []\n",
        "for _ in range(test_num):\n",
        "    c_board = int(input())\n",
        "    start = tuple(map(int, input().split()))\n",
        "    goal = tuple(map(int, input().split()))\n",
        "    ans.append(bfs(c_board, start, goal))\n",
        "\n",
        "print('--출력--')\n",
        "for i in ans:\n",
        "  print(i)"
      ]
    },
    {
      "cell_type": "markdown",
      "source": [
        "##경로 출력\n",
        "위 예제에서 최단경로 자체를 구하고 싶다면, 어떻게 해야할까? 즉, 최단 이동횟수가 아닌 최단경로를 구해보자.\n",
        "\n",
        "##풀이:\n",
        "경로를 구하는게 목적이면 queue에 저장하는 것이 좌표가 아닌 경로 형태이면 된다. 경로는 좌표들의 시퀀스를 리스트로 담아 전달해주면 된다. 또한 queue에서 popleft()로 뽑은 데이터는 경로가 되므로 현재의 방문여부 판단할 좌표는 path의 맨 마지막인 path[-1]이 된다. 목표 지점에 도달한 이후 return값도 l 대신 path로 하며, 인접 노드(나이트가 갈수 있는 좌표)들을 추가하는 부분도 좌표를 queue에 추가해주는 것이 아닌 이 새로운 좌표들을 포함한 새로운 경로를 추가해주면 된다."
      ],
      "metadata": {
        "id": "r0b8RTbygrnd"
      }
    },
    {
      "cell_type": "code",
      "source": [
        "from collections import deque\n",
        "\n",
        "def bfs_path(c_board, start, goal):\n",
        "    x, y = start\n",
        "\n",
        "    queue = deque()\n",
        "    queue.append([(x,y)]) #queue에 좌표대신 좌표들의 시퀀스인 리스트 즉, path들을 담아줌. 초기값으로는 start좌표만 담긴 path를 추가해준다.\n",
        "    visited = set()\n",
        "\n",
        "    while queue:\n",
        "        path = queue.popleft()  #queue에서 좌표대신 경로를 뽑음\n",
        "\n",
        "        x, y = path[-1] #visited를 판별할 현재 좌표 x,y는 가져온 path의 맨 마지막 좌표인 path[-1]\n",
        "\n",
        "        if (x, y) in visited:\n",
        "            continue\n",
        "\n",
        "\n",
        "        visited.add((x, y))\n",
        "\n",
        "\n",
        "        if (x, y) == goal:\n",
        "            return  path  #최단경로를 반환\n",
        "\n",
        "        directions = [(-2,1), (-2,-1), (-1,-2), (1,-2), (2,1), (2,-1), (-1,2), (1,2)]\n",
        "\n",
        "        for dx, dy in directions:\n",
        "            nx, ny = x + dx, y + dy\n",
        "\n",
        "            if 0 <= nx < c_board and 0 <= ny < c_board and (nx, ny) not in visited:\n",
        "                new_path = path + [(nx, ny)]  #기존 경로 path에 새로운 좌표 (nx,ny)가 추가된 새로운 경로 new_path\n",
        "                queue.append(new_path)  #새로운 경로인 new_path를 queue에 추가해줌.\n",
        "\n",
        "\n",
        "#테스트 케이스 입력 및 출력\n",
        "print('--입력--')\n",
        "test_num = int(input())\n",
        "ans = []\n",
        "for _ in range(test_num):\n",
        "    c_board = int(input())\n",
        "    start = tuple(map(int, input().split()))\n",
        "    goal = tuple(map(int, input().split()))\n",
        "    ans.append(bfs_path(c_board, start, goal))\n",
        "\n",
        "print('--출력--')\n",
        "for i in ans:\n",
        "  print(i)"
      ],
      "metadata": {
        "colab": {
          "base_uri": "https://localhost:8080/"
        },
        "id": "rjDEj26PhBiA",
        "outputId": "ffa675e3-e5eb-4d04-ab5d-20453e8f3bc9"
      },
      "execution_count": null,
      "outputs": [
        {
          "output_type": "stream",
          "name": "stdout",
          "text": [
            "--입력--\n",
            "3\n",
            "8\n",
            "0 0\n",
            "7 0\n",
            "100\n",
            "0 0\n",
            "30 50\n",
            "10\n",
            "1 1\n",
            "1 1\n",
            "--출력--\n",
            "[(0, 0), (2, 1), (4, 2), (3, 0), (5, 1), (7, 0)]\n",
            "[(0, 0), (2, 1), (0, 2), (2, 3), (4, 4), (6, 5), (8, 6), (9, 8), (10, 10), (11, 12), (12, 14), (13, 16), (14, 18), (15, 20), (16, 22), (17, 24), (18, 26), (19, 28), (20, 30), (21, 32), (22, 34), (23, 36), (24, 38), (25, 40), (26, 42), (27, 44), (28, 46), (29, 48), (30, 50)]\n",
            "[(1, 1)]\n"
          ]
        }
      ]
    }
  ]
}